{
 "cells": [
  {
   "cell_type": "markdown",
   "metadata": {
    "editable": true
   },
   "source": [
    "# Requests Lab\n",
    "\n",
    "Welcome to the requests lab! \n",
    "\n",
    "In this lab you'll work on the Udacity bookshelf practice application to build a Flask API that responds to GET, PATCH, POST and DELETE requests, handles pagination and request arguments. \n",
    "\n",
    "You'll primarily be working in `__init__.py` in the `/backend/flaskr` folder, where you'll find detailed instructions marked `@TODO` as well as suggestions for how to `TEST` the application after writing each route. \n",
    "\n",
    "To start the application, use the buttons below to start the frontend application in one terminal window. \n",
    "\n",
    "In another terminal window run the below code once:\n",
    "```\n",
    "export FLASK_APP=flaskr\n",
    "export FLASK_ENV=development\n",
    "```\n",
    "\n",
    "There is a setup script in the `workspace` directory. Open a terminal in this Workspace and run the script with:\n",
    "```\n",
    "bash setup.sh\n",
    "```\n",
    "\n",
    "The script installs the Python dependencies needed for this lab, starts the PostgreSQL service and executes the commands needed to set up the database. You should only need to run this script once.\n",
    "\n",
    "Once setup is complete, navigate to the `backend` directory and start your Flask server with `flask run`"
   ]
  },
  {
   "cell_type": "markdown",
   "metadata": {
    "editable": true
   },
   "source": [
    "### Use the buttons below to manage the front end client server."
   ]
  },
  {
   "cell_type": "markdown",
   "metadata": {
    "editable": true,
    "ulab": {
     "buttons": {
      "ulab-button-36fab080": {
       "bashCommand": "",
       "filesToOpen": [],
       "isPreviewButton": true,
       "runInBackground": false,
       "style": "primary",
       "text": "OPEN APP IN A NEW TAB",
       "toggleOffText": "HIDE SOLUTION",
       "toggleOnText": "SHOW SOLUTION"
      },
      "ulab-button-513bd941": {
       "bashCommand": "\\u0003",
       "filesToOpen": [],
       "isPreviewButton": false,
       "runInBackground": false,
       "style": "primary",
       "text": "STOP FRONT END APP SERVER",
       "toggleOffText": "HIDE SOLUTION",
       "toggleOnText": "SHOW SOLUTION"
      },
      "ulab-button-956dca92": {
       "bashCommand": "cd ~/ && cd /home/workspace/frontend && npm start",
       "filesToOpen": [],
       "isPreviewButton": false,
       "runInBackground": false,
       "style": "primary",
       "text": "START FRONTEND APP SERVER",
       "toggleOffText": "HIDE SOLUTION",
       "toggleOnText": "SHOW SOLUTION"
      }
     }
    }
   },
   "source": [
    "<button id=\"ulab-button-956dca92\" class=\"ulab-btn--primary\"></button><button id=\"ulab-button-36fab080\" class=\"ulab-btn--primary\"></button><button id=\"ulab-button-513bd941\" class=\"ulab-btn--primary\"></button>"
   ]
  },
  {
   "cell_type": "markdown",
   "metadata": {
    "editable": true
   },
   "source": [
    "When you have everything up and running, open the frontend application using the button above. "
   ]
  },
  {
   "cell_type": "markdown",
   "metadata": {
    "editable": true
   },
   "source": [
    "You'll notice that nothing works! The form is there, but none of the functionality is live. \n",
    "\n",
    "From here, you can edit the `__init__.py` file in the `backend` directory to begin building out the necessary routes and logic to get the backend of your app up and running."
   ]
  }
 ],
 "metadata": {
  "kernelspec": {
   "display_name": "Python 3",
   "language": "python",
   "name": "python3"
  },
  "language_info": {
   "codemirror_mode": {
    "name": "ipython",
    "version": 3
   },
   "file_extension": ".py",
   "mimetype": "text/x-python",
   "name": "python",
   "nbconvert_exporter": "python",
   "pygments_lexer": "ipython3",
   "version": "3.6.3"
  },
  "ulab_nb_type": "guided"
 },
 "nbformat": 4,
 "nbformat_minor": 4
}
